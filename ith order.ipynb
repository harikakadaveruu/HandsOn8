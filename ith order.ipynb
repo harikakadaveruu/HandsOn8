{
 "cells": [
  {
   "cell_type": "code",
   "execution_count": 7,
   "id": "065e1b61",
   "metadata": {},
   "outputs": [
    {
     "name": "stdout",
     "output_type": "stream",
     "text": [
      "The 4th order statistic is: 12\n"
     ]
    }
   ],
   "source": [
    "import random\n",
    "def partition(A,low,high):\n",
    "    piv=A[high]\n",
    "    i=low-1\n",
    "    for j in range(low,high):\n",
    "        if A[j]<=piv:\n",
    "            i+=1\n",
    "            A[i],A[j]=A[j],A[i]\n",
    "    A[i+1],A[high]=A[high],arr[i+1]\n",
    "    return i+1\n",
    "def qs(A,low,high):\n",
    "    if low < high:\n",
    "        pi=partition(A,low,high)\n",
    "        qs(A,low,pi-1)\n",
    "        qs(A,pi+1,high)\n",
    "def ith_order(A,i):\n",
    "    qs(A,0,len(A)-1)\n",
    "    return A[i-1]\n",
    "A=[4,22,3,5,7,9]\n",
    "i=4\n",
    "result=ith_order(A,i)\n",
    "print(f\"The {i}th order statistic is: {result}\")"
   ]
  },
  {
   "cell_type": "code",
   "execution_count": null,
   "id": "d7f57a01",
   "metadata": {},
   "outputs": [],
   "source": []
  }
 ],
 "metadata": {
  "kernelspec": {
   "display_name": "Python 3 (ipykernel)",
   "language": "python",
   "name": "python3"
  },
  "language_info": {
   "codemirror_mode": {
    "name": "ipython",
    "version": 3
   },
   "file_extension": ".py",
   "mimetype": "text/x-python",
   "name": "python",
   "nbconvert_exporter": "python",
   "pygments_lexer": "ipython3",
   "version": "3.11.5"
  }
 },
 "nbformat": 4,
 "nbformat_minor": 5
}
